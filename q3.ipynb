{
 "cells": [
  {
   "cell_type": "code",
   "execution_count": 22,
   "id": "3faf0d0e",
   "metadata": {},
   "outputs": [],
   "source": [
    "#Q1 ASSIGNMENT 3 SOLVING SYSTEM OF EQUATIONS USING GAUSS JORDAN"
   ]
  },
  {
   "cell_type": "code",
   "execution_count": 23,
   "id": "9f32e0bc",
   "metadata": {
    "scrolled": true
   },
   "outputs": [],
   "source": [
    "import import_ipynb            #for import ipynb files"
   ]
  },
  {
   "cell_type": "code",
   "execution_count": 24,
   "id": "ad5a4021",
   "metadata": {},
   "outputs": [],
   "source": [
    "import mylibrary as ml         #importing library\n",
    "import numpy as np             #for loading file\n",
    "import math                    #floor and ceil"
   ]
  },
  {
   "cell_type": "code",
   "execution_count": 25,
   "id": "1a8aacfc",
   "metadata": {},
   "outputs": [
    {
     "name": "stdout",
     "output_type": "stream",
     "text": [
      "The original augmented matrix is: \n",
      "\n",
      "[0.0 , 2.0 , 1.0 , | 1.0 , 0.0 , 0.0 ]\n",
      "[4.0 , 0.0 , 1.0 , | 0.0 , 1.0 , 0.0 ]\n",
      "[-1.0 , 2.0 , 0.0 , | 0.0 , 0.0 , 1.0 ]\n",
      "\n",
      "\n",
      "The final augmented matrix is: \n",
      "\n",
      "[1.0 , 0.0 , 0.0 , | -0.33 , 0.33 , 0.33 ]\n",
      "[0.0 , 1.0 , 0.0 , | -0.16 , 0.16 , 0.66 ]\n",
      "[0.0 , 0.0 , 1.0 , | 1.33 , -0.33 , -1.33 ]\n",
      "\n",
      "\n",
      "The inverse matrix is hence: \n",
      "\n",
      "[-0.33, 0.33, 0.33]\n",
      "[-0.16, 0.16, 0.66]\n",
      "[1.33, -0.33, -1.33]\n",
      "\n",
      "\n",
      "The product of A and A inverse is \n",
      "\n",
      "[1.01, -0.01, -0.01]\n",
      "[0.01, 0.99, -0.01]\n",
      "[0.01, -0.01, 0.99]\n",
      "\n",
      "\n"
     ]
    },
    {
     "data": {
      "text/plain": [
       "' If we get mult to be close to Identity matrix to 2 decimal places, then the inverse is correct '"
      ]
     },
     "execution_count": 25,
     "metadata": {},
     "output_type": "execute_result"
    }
   ],
   "source": [
    "#import the matrix A and B in AX = B\n",
    "\n",
    "A = np.loadtxt('q3.csv', delimiter = ',')                    \n",
    "B = np.loadtxt('identity.csv', delimiter = ',')\n",
    "\n",
    "###############################################################\n",
    "\n",
    "\n",
    "\n",
    "#augmenting the matrices and keeping the orginal in another matrix\n",
    "\n",
    "aug_mat_original = ml.Matrix_operations.augment_matrix(A, B)    \n",
    "aug_mat = ml.Matrix_operations.augment_matrix(A, B)             \n",
    "##############################################################\n",
    "\n",
    "\n",
    "\n",
    "#printing the matrices and equations\n",
    "\n",
    "print(\"The original augmented matrix is:\", \"\\n\")\n",
    "ml.Printing.print_aug_matrix(aug_mat_original)\n",
    "##############################################################\n",
    "\n",
    "\n",
    "\n",
    "#performing gauss jordan elimination\n",
    "\n",
    "ml.Gauss_Jordan.solve(aug_mat)\n",
    "##############################################################\n",
    "\n",
    "\n",
    "\n",
    "#printing the augmented matrix\n",
    "\n",
    "print(\"The final augmented matrix is:\", \"\\n\")\n",
    "ml.Printing.print_aug_matrix(aug_mat)\n",
    "##############################################################\n",
    "\n",
    "\n",
    "\n",
    "#showing the inverse matrix\n",
    "\n",
    "augment_A, inverse_A = ml.Matrix_operations.separate_aug_mat(aug_mat)   #this functions seperates the\n",
    "                                                                        #augmented matrix into its\n",
    "                                                                        #two intital matrices\n",
    "        \n",
    "print(\"The inverse matrix is hence:\", \"\\n\")\n",
    "ml.Printing.print_matrix(inverse_A)\n",
    "##############################################################\n",
    "\n",
    "\n",
    "\n",
    "#checking if the inverse is correct\n",
    "\n",
    "mult = ml.Matrix_operations.mat_mult(A, inverse_A)                      #multiplying A and A^(-1)\n",
    "\n",
    "mult = ml.Round.round_matrix(mult)                                      #rounding the mult matrix\n",
    "\n",
    "print(\"The product of A and A inverse is\", \"\\n\")\n",
    "ml.Printing.print_matrix(mult)                                          \n",
    "\n",
    "##############################################################\n",
    "''' If we get mult to be close to Identity matrix to 2 decimal places, then the inverse is correct '''"
   ]
  },
  {
   "cell_type": "code",
   "execution_count": null,
   "id": "5655aa48",
   "metadata": {},
   "outputs": [],
   "source": []
  },
  {
   "cell_type": "code",
   "execution_count": null,
   "id": "4b6ff41b",
   "metadata": {},
   "outputs": [],
   "source": []
  }
 ],
 "metadata": {
  "kernelspec": {
   "display_name": "Python 3",
   "language": "python",
   "name": "python3"
  },
  "language_info": {
   "codemirror_mode": {
    "name": "ipython",
    "version": 3
   },
   "file_extension": ".py",
   "mimetype": "text/x-python",
   "name": "python",
   "nbconvert_exporter": "python",
   "pygments_lexer": "ipython3",
   "version": "3.8.8"
  }
 },
 "nbformat": 4,
 "nbformat_minor": 5
}
