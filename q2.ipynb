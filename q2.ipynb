{
 "cells": [
  {
   "cell_type": "code",
   "execution_count": 1,
   "id": "3faf0d0e",
   "metadata": {},
   "outputs": [],
   "source": [
    "#Q1 ASSIGNMENT 3 SOLVING SYSTEM OF EQUATIONS USING GAUSS JORDAN"
   ]
  },
  {
   "cell_type": "code",
   "execution_count": 2,
   "id": "9f32e0bc",
   "metadata": {
    "scrolled": true
   },
   "outputs": [],
   "source": [
    "import import_ipynb            #for import ipynb files"
   ]
  },
  {
   "cell_type": "code",
   "execution_count": 3,
   "id": "ad5a4021",
   "metadata": {},
   "outputs": [
    {
     "name": "stdout",
     "output_type": "stream",
     "text": [
      "importing Jupyter notebook from mylibrary.ipynb\n"
     ]
    }
   ],
   "source": [
    "import mylibrary as ml         #importing library\n",
    "import numpy as np             #for loading file\n",
    "import math                    #floor and ceil"
   ]
  },
  {
   "cell_type": "code",
   "execution_count": 4,
   "id": "1a8aacfc",
   "metadata": {},
   "outputs": [
    {
     "name": "stdout",
     "output_type": "stream",
     "text": [
      "The given equations are:\n",
      "\n",
      "\n",
      "0.0 x +  2.0 y +  -3.0 z =  -1.0\n",
      "1.0 x +  0.0 y +  1.0 z =  0.0\n",
      "1.0 x +  -1.0 y +  0.0 z =  3.0\n",
      "\n",
      "\n",
      "The original augmented matrix is: \n",
      "\n",
      "[0.0 , 2.0 , -3.0 | -1.0  ]\n",
      "[1.0 , 0.0 , 1.0 | 0.0  ]\n",
      "[1.0 , -1.0 , 0.0 | 3.0  ]\n",
      "\n",
      "\n",
      "The final augmented matrix is: \n",
      "\n",
      "[1.0 , 0.0 , 0.0 | 1.0  ]\n",
      "[0.0 , 1.0 , 0.0 | -2.0  ]\n",
      "[0.0 , 0.0 , 1.0 | -1.0  ]\n",
      "\n",
      "\n",
      "The solutions are:\n",
      "\n",
      "\n",
      "x  =  1.0\n",
      "y  =  -2.0\n",
      "z  =  -1.0\n",
      "\n",
      "\n"
     ]
    }
   ],
   "source": [
    "#import the matrix A and B in AX = B\n",
    "A = np.loadtxt('q2.csv', delimiter = ',')                    \n",
    "B = np.loadtxt('q2_1.csv', delimiter = ',')\n",
    "\n",
    "###############################################################\n",
    "\n",
    "\n",
    "\n",
    "'''\n",
    "B is taken a simple list. We want it to be of the form\n",
    "[[],[],[],[]...] and not [...] because the latter is \n",
    "interpretted as a row matrix from my code. Hence we use\n",
    "the following function.\n",
    "'''\n",
    "B = ml.Matrix_operations.make_proper_column(B)\n",
    "\n",
    "##############################################################\n",
    "\n",
    "\n",
    "\n",
    "#augmenting the matrices and keeping the orginal in another matrix\n",
    "\n",
    "aug_mat_original = ml.Matrix_operations.augment_matrix(A, B)    \n",
    "aug_mat = ml.Matrix_operations.augment_matrix(A, B)             \n",
    "##############################################################\n",
    "\n",
    "\n",
    "\n",
    "#printing the matrices and equations\n",
    "\n",
    "ml.Printing.print_eq(aug_mat_original)\n",
    "print(\"The original augmented matrix is:\", \"\\n\")\n",
    "ml.Printing.print_aug_matrix(aug_mat_original)\n",
    "##############################################################\n",
    "\n",
    "\n",
    "\n",
    "#performing gauss jordan elimination\n",
    "\n",
    "ml.Gauss_Jordan.solve(aug_mat)\n",
    "##############################################################\n",
    "\n",
    "\n",
    "\n",
    "#printing the final results\n",
    "\n",
    "print(\"The final augmented matrix is:\", \"\\n\")\n",
    "ml.Printing.print_aug_matrix(aug_mat)\n",
    "\n",
    "ml.Printing.print_sol(aug_mat)\n",
    "##############################################################"
   ]
  },
  {
   "cell_type": "code",
   "execution_count": null,
   "id": "5655aa48",
   "metadata": {},
   "outputs": [],
   "source": []
  },
  {
   "cell_type": "code",
   "execution_count": null,
   "id": "4b6ff41b",
   "metadata": {},
   "outputs": [],
   "source": []
  }
 ],
 "metadata": {
  "kernelspec": {
   "display_name": "Python 3",
   "language": "python",
   "name": "python3"
  },
  "language_info": {
   "codemirror_mode": {
    "name": "ipython",
    "version": 3
   },
   "file_extension": ".py",
   "mimetype": "text/x-python",
   "name": "python",
   "nbconvert_exporter": "python",
   "pygments_lexer": "ipython3",
   "version": "3.8.8"
  }
 },
 "nbformat": 4,
 "nbformat_minor": 5
}
