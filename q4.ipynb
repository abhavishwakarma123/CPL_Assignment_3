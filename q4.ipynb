{
 "cells": [
  {
   "cell_type": "code",
   "execution_count": 1,
   "id": "3faf0d0e",
   "metadata": {},
   "outputs": [],
   "source": [
    "#Q1 ASSIGNMENT 3 SOLVING SYSTEM OF EQUATIONS USING GAUSS JORDAN"
   ]
  },
  {
   "cell_type": "code",
   "execution_count": 2,
   "id": "9f32e0bc",
   "metadata": {
    "scrolled": true
   },
   "outputs": [],
   "source": [
    "import import_ipynb            #for import ipynb files"
   ]
  },
  {
   "cell_type": "code",
   "execution_count": 3,
   "id": "ad5a4021",
   "metadata": {},
   "outputs": [
    {
     "name": "stdout",
     "output_type": "stream",
     "text": [
      "importing Jupyter notebook from mylibrary.ipynb\n"
     ]
    }
   ],
   "source": [
    "import mylibrary as ml         #importing library\n",
    "import numpy as np             #for loading file\n",
    "import math                    #floor and ceil"
   ]
  },
  {
   "cell_type": "code",
   "execution_count": 5,
   "id": "1a8aacfc",
   "metadata": {},
   "outputs": [
    {
     "name": "stdout",
     "output_type": "stream",
     "text": [
      "The determinant of this matrix is  65.0\n"
     ]
    }
   ],
   "source": [
    "#import the matrix A and B in AX = B\n",
    "\n",
    "A = np.loadtxt('q4.csv', delimiter = ',')                    \n",
    "\n",
    "###############################################################\n",
    "\n",
    "\n",
    "\n",
    "#augmenting the matrices and keeping the orginal in another matrix\n",
    "\n",
    "ml.Gauss_Jordan.determinant(A)            \n",
    "##############################################################"
   ]
  }
 ],
 "metadata": {
  "kernelspec": {
   "display_name": "Python 3",
   "language": "python",
   "name": "python3"
  },
  "language_info": {
   "codemirror_mode": {
    "name": "ipython",
    "version": 3
   },
   "file_extension": ".py",
   "mimetype": "text/x-python",
   "name": "python",
   "nbconvert_exporter": "python",
   "pygments_lexer": "ipython3",
   "version": "3.8.8"
  }
 },
 "nbformat": 4,
 "nbformat_minor": 5
}
